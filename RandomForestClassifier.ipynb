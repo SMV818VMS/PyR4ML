{
 "cells": [
  {
   "cell_type": "markdown",
   "metadata": {},
   "source": [
    "# Random Forest Classifier in Python\n",
    "\n",
    "In this notebook you will find the steps to solve a Random Forest classification problem in python. Despite the fact the methodology used in this problem is not original, the example implementation has been created by [Samuel Miravet-Verde](samuel.miravet@crg.eu). Please, link this repository if you are going to use content from it. \n",
    "\n",
    "### Loading packages"
   ]
  },
  {
   "cell_type": "code",
   "execution_count": 21,
   "metadata": {
    "collapsed": false
   },
   "outputs": [],
   "source": [
    "%matplotlib inline\n",
    "\n",
    "import numpy as np\n",
    "from numpy import genfromtxt, savetxt\n",
    "import seaborn\n",
    "from sklearn.ensemble import RandomForestClassifier\n",
    "from sklearn.metrics import roc_curve, auc, roc_auc_score\n",
    "from sklearn.cross_validation import train_test_split\n",
    "from sklearn.preprocessing import label_binarize\n",
    "from sklearn.multiclass import OneVsRestClassifier\n",
    "from sklearn.cross_validation import StratifiedKFold\n",
    "from scipy import interp\n",
    "import matplotlib.pyplot as plt"
   ]
  },
  {
   "cell_type": "markdown",
   "metadata": {},
   "source": [
    "### Defining datasets\n",
    "\n",
    "Define the test and training set we are going to use. These datasets has been generated from a real case where we have a binary classifcation problem based on numerical (integer and float) and boolean features. "
   ]
  },
  {
   "cell_type": "code",
   "execution_count": 22,
   "metadata": {
    "collapsed": false
   },
   "outputs": [],
   "source": [
    "#create the training & test sets, skipping the header row with [1:]\n",
    "dataset = genfromtxt(open('Data/train.csv','r'), delimiter=',', dtype='f8')[1:]    \n",
    "target = [x[0] for x in dataset]\n",
    "train = [x[1:] for x in dataset]\n",
    "test = genfromtxt(open('Data/test.csv','r'), delimiter=',', dtype='f8')[1:]\n",
    "test = [x[1:] for x in test]"
   ]
  },
  {
   "cell_type": "markdown",
   "metadata": {},
   "source": [
    "### Generating a toy model dataset\n",
    "\n",
    "We are going to generate here a dataset to run a toy model, the specifications of the model include 100 estimators, oob_score on (to have ROC AUC measures) and n_jobs=-1 to work with all the cores available in the local machine."
   ]
  },
  {
   "cell_type": "code",
   "execution_count": 23,
   "metadata": {
    "collapsed": false
   },
   "outputs": [],
   "source": [
    "#create and train the random forest\n",
    "#multi-core CPUs can use: rf = RandomForestClassifier(n_estimators=100, n_jobs=2)\n",
    "rf = RandomForestClassifier(n_estimators=100, oob_score=1, n_jobs = -1)"
   ]
  },
  {
   "cell_type": "markdown",
   "metadata": {},
   "source": [
    "### Classifying\n",
    "\n",
    "To classify we need to fit the model and after we can estore in two different files the classification problem results:"
   ]
  },
  {
   "cell_type": "code",
   "execution_count": 24,
   "metadata": {
    "collapsed": false
   },
   "outputs": [],
   "source": [
    "rf.fit(train, target)\n",
    "\n",
    "savetxt('Data/classes_predicted.csv', rf.predict(test), delimiter=',', fmt='%f')\n",
    "savetxt('Data/probabil_predicted.csv', rf.predict_proba(test), delimiter=',', fmt='%f')"
   ]
  },
  {
   "cell_type": "markdown",
   "metadata": {},
   "source": [
    "### Plot the weights of each feature\n",
    "\n",
    "One of the advantages we have when we use a Random Forest Classifier is that we work with regression and classification tasks. With the regressions we are able to assign a weight to each feature to know which is the one with more relevance in the decission:"
   ]
  },
  {
   "cell_type": "code",
   "execution_count": 25,
   "metadata": {
    "collapsed": false
   },
   "outputs": [
    {
     "name": "stdout",
     "output_type": "stream",
     "text": [
      "strand = 0.000297959260833\n",
      "bidirectional = 0.00306180375902\n",
      "stem_len = 0.0438066674845\n",
      "loop_len = 0.00635688022906\n",
      "spacer_len = 0.0096672744212\n",
      "energy = 0.124349640075\n",
      "mismatched_b = 0.0159624979222\n",
      "GC = 0.0136062052358\n",
      "Ts = 0.222929408751\n",
      "ptsc1 = 0.283391488877\n",
      "ptsc2 = 0.195554158856\n",
      "distbef = 0.0772507318091\n",
      "distaft = 0.00376528331876\n"
     ]
    }
   ],
   "source": [
    "l = ['strand', 'bidirectional', 'stem_len', 'loop_len', 'spacer_len','energy', 'mismatched_b', 'GC', 'Ts', 'ptsc1', 'ptsc2', 'distbef', 'distaft']\n",
    "importances = rf.feature_importances_\n",
    "\n",
    "\n",
    "for i in range(0, len(l)):\n",
    "    print(l[i]+' = '+ str(importances[i]))\n",
    "    \n",
    "    \n",
    "# To plot the weights:\n",
    "std = np.std([importances for tree in rf.estimators_], axis=0)"
   ]
  },
  {
   "cell_type": "code",
   "execution_count": null,
   "metadata": {
    "collapsed": true
   },
   "outputs": [],
   "source": []
  },
  {
   "cell_type": "code",
   "execution_count": 26,
   "metadata": {
    "collapsed": false
   },
   "outputs": [],
   "source": [
    "indices = np.argsort(importances)[::-1]"
   ]
  },
  {
   "cell_type": "code",
   "execution_count": 27,
   "metadata": {
    "collapsed": false
   },
   "outputs": [
    {
     "name": "stdout",
     "output_type": "stream",
     "text": [
      "Feature ranking:\n",
      "1. feature 9 (0.283391)\n",
      "2. feature 8 (0.222929)\n",
      "3. feature 10 (0.195554)\n",
      "4. feature 5 (0.124350)\n",
      "5. feature 11 (0.077251)\n",
      "6. feature 2 (0.043807)\n",
      "7. feature 6 (0.015962)\n",
      "8. feature 7 (0.013606)\n",
      "9. feature 4 (0.009667)\n",
      "10. feature 3 (0.006357)\n",
      "11. feature 12 (0.003765)\n",
      "12. feature 1 (0.003062)\n"
     ]
    }
   ],
   "source": [
    "print(\"Feature ranking:\")\n",
    "for f in range(0,len(l)-1):\n",
    "    print(\"%d. feature %d (%f)\" % (f + 1, indices[f], importances[indices[f]]))\n"
   ]
  },
  {
   "cell_type": "code",
   "execution_count": 28,
   "metadata": {
    "collapsed": false
   },
   "outputs": [
    {
     "data": {
      "image/png": "[encoded data removed]",
      "text/plain": [
       "<matplotlib.figure.Figure at 0x7ff140e345d0>"
      ]
     },
     "metadata": {},
     "output_type": "display_data"
    }
   ],
   "source": [
    "# Plot the feature importances of the forest\n",
    "plt.figure()\n",
    "plt.title(\"Feature importances\")\n",
    "plt.bar(range(len(l)), importances[indices],\n",
    "       color=\"r\", yerr=std[indices], align=\"center\")\n",
    "plt.xticks(range(len(l)), indices)\n",
    "plt.xlim([-1, len(l)])\n",
    "plt.show()"
   ]
  },
  {
   "cell_type": "markdown",
   "metadata": {},
   "source": [
    "### Check the performance of the model"
   ]
  },
  {
   "cell_type": "code",
   "execution_count": 35,
   "metadata": {
    "collapsed": false
   },
   "outputs": [
    {
     "data": {
      "text/plain": [
       "(array([ 0.,  1.]), array([ 0.96551724,  1.        ]), array([ 1.,  0.]))"
      ]
     },
     "execution_count": 35,
     "metadata": {},
     "output_type": "execute_result"
    }
   ],
   "source": [
    "# model = RandomForestClassifier(n_estimators=200, oob_score=1, n_jobs = -1,random_state =50, max_features = \"auto\", min_samples_leaf = leaf_size)\n",
    "rf.fit(train, target)\n",
    "probs = rf.oob_decision_function_\n",
    "# Transform to labels\n",
    "labels = [1.0 if y > x else 0 for x, y in probs]\n",
    "\n",
    "roc_auc_score(target, labels)\n",
    "\n"
   ]
  },
  {
   "cell_type": "markdown",
   "metadata": {},
   "source": [
    "### Plot ROC Curves\n",
    "\n"
   ]
  },
  {
   "cell_type": "code",
   "execution_count": 37,
   "metadata": {
    "collapsed": false
   },
   "outputs": [
    {
     "data": {
      "image/png": "[encoded data removed]",
      "text/plain": [
       "<matplotlib.figure.Figure at 0x7ff140dce050>"
      ]
     },
     "metadata": {},
     "output_type": "display_data"
    }
   ],
   "source": [
    "# Compute ROC curve and ROC area for each class\n",
    "fpr = dict()\n",
    "tpr = dict()\n",
    "roc_auc = dict()\n",
    "for i in range(len(set(labels))):\n",
    "    fpr[i], tpr[i], _ = roc_curve(target, labels)\n",
    "    roc_auc[i] = auc(fpr[i], tpr[i])\n",
    "\n",
    "# Compute micro-average ROC curve and ROC area\n",
    "# fpr[\"micro\"], tpr[\"micro\"], _ = roc_curve(y_test.ravel(), y_score.ravel())\n",
    "# roc_auc[\"micro\"] = auc(fpr[\"micro\"], tpr[\"micro\"])\n",
    "\n",
    "##############################################################################\n",
    "# Plot of a ROC curve for a specific class\n",
    "plt.figure()\n",
    "plt.plot(fpr[0], tpr[0], label='ROC curve (area = %0.2f)' % roc_auc[0])\n",
    "plt.plot([0, 1], [0, 1], 'k--')\n",
    "plt.xlim([0.0, 1.0])\n",
    "plt.ylim([0.0, 1.05])\n",
    "plt.xlabel('False Positive Rate')\n",
    "plt.ylabel('True Positive Rate')\n",
    "plt.title('Receiver operating characteristic example')\n",
    "plt.legend(loc=\"lower right\")\n",
    "plt.show()"
   ]
  },
  {
   "cell_type": "markdown",
   "metadata": {},
   "source": [
    "### Try several parameters"
   ]
  },
  {
   "cell_type": "code",
   "execution_count": 31,
   "metadata": {
    "collapsed": false
   },
   "outputs": [
    {
     "name": "stdout",
     "output_type": "stream",
     "text": [
      "AUC - ROC :  0.991379310345\n",
      "AUC - ROC :  0.991379310345\n",
      "AUC - ROC :  0.98275862069\n",
      "AUC - ROC :  0.5\n",
      "AUC - ROC :  0.5\n",
      "AUC - ROC :  0.5\n",
      "AUC - ROC :  0.5\n"
     ]
    }
   ],
   "source": [
    "sample_leaf_options = [1,5,10,50,100,200,500]\n",
    "\n",
    "for leaf_size in sample_leaf_options :\n",
    "    model = RandomForestClassifier(n_estimators = 200, oob_score=1, n_jobs = -1,random_state =50, max_features = \"auto\", min_samples_leaf = leaf_size)\n",
    "    model.fit(train, target)\n",
    "    probs = model.oob_decision_function_\n",
    "    # Transform to labels\n",
    "    labels = [1.0 if y > x else 0 for x, y in probs]\n",
    "    print \"AUC - ROC : \", roc_auc_score(target,labels)"
   ]
  }
 ],
 "metadata": {
  "kernelspec": {
   "display_name": "Python 2",
   "language": "python",
   "name": "python2"
  },
  "language_info": {
   "codemirror_mode": {
    "name": "ipython",
    "version": 2
   },
   "file_extension": ".py",
   "mimetype": "text/x-python",
   "name": "python",
   "nbconvert_exporter": "python",
   "pygments_lexer": "ipython2",
   "version": "2.7.10"
  }
 },
 "nbformat": 4,
 "nbformat_minor": 0
}
