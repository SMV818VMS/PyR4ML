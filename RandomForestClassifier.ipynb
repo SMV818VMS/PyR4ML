{
 "cells": [
  {
   "cell_type": "markdown",
   "metadata": {},
   "source": [
    "# Random Forest Classifier in Python\n",
    "\n",
    "In this notebook you will find the steps to solve a Random Forest classification problem in python. Despite the fact the methodology used in this problem is not original, the example implementation has been created by [Samuel Miravet-Verde](samuel.miravet@crg.eu). Please, link this repository if you are going to use content from it. \n",
    "\n",
    "### Loading packages"
   ]
  },
  {
   "cell_type": "code",
   "execution_count": 169,
   "metadata": {
    "collapsed": false
   },
   "outputs": [],
   "source": [
    "%matplotlib inline\n",
    "\n",
    "import numpy as np\n",
    "from numpy import genfromtxt, savetxt\n",
    "import seaborn\n",
    "from sklearn.ensemble import RandomForestClassifier\n",
    "from sklearn.metrics import roc_curve, auc, roc_auc_score\n",
    "from sklearn.cross_validation import train_test_split\n",
    "from sklearn.preprocessing import label_binarize\n",
    "from sklearn.multiclass import OneVsRestClassifier\n",
    "from sklearn.cross_validation import StratifiedKFold\n",
    "from scipy import interp\n",
    "import matplotlib.pyplot as plt"
   ]
  },
  {
   "cell_type": "markdown",
   "metadata": {},
   "source": [
    "### Defining datasets\n",
    "\n",
    "Define the test and training set we are going to use. These datasets has been generated from a real case where we have a binary classifcation problem based on numerical (integer and float) and boolean features. "
   ]
  },
  {
   "cell_type": "code",
   "execution_count": 170,
   "metadata": {
    "collapsed": false
   },
   "outputs": [],
   "source": [
    "#create the training & test sets, skipping the header row with [1:]\n",
    "dataset = genfromtxt(open('Data/train.csv','r'), delimiter=',', dtype='f8')[1:]    \n",
    "target = [x[0] for x in dataset]\n",
    "train = [x[1:] for x in dataset]\n",
    "test_original = genfromtxt(open('Data/test.csv','r'), delimiter=',', dtype='f8')[1:]\n",
    "test = [x[1:] for x in test_original]"
   ]
  },
  {
   "cell_type": "markdown",
   "metadata": {},
   "source": [
    "### Generating a toy model dataset\n",
    "\n",
    "We are going to generate here a dataset to run a toy model, the specifications of the model include 100 estimators, oob_score on (to have ROC AUC measures) and n_jobs=-1 to work with all the cores available in the local machine."
   ]
  },
  {
   "cell_type": "code",
   "execution_count": 171,
   "metadata": {
    "collapsed": false
   },
   "outputs": [],
   "source": [
    "#create and train the random forest\n",
    "#multi-core CPUs can use: rf = RandomForestClassifier(n_estimators=100, n_jobs=2)\n",
    "rf = RandomForestClassifier(n_estimators=200, oob_score=1, n_jobs = -1, random_state =50, max_features = \"auto\", min_samples_leaf = 5)"
   ]
  },
  {
   "cell_type": "markdown",
   "metadata": {},
   "source": [
    "### Classifying\n",
    "\n",
    "To classify we need to fit the model and after we can estore in two different files the classification problem results:"
   ]
  },
  {
   "cell_type": "code",
   "execution_count": 172,
   "metadata": {
    "collapsed": false
   },
   "outputs": [],
   "source": [
    "rf.fit(train, target)\n",
    "\n",
    "savetxt('Data/classes_predicted.csv', rf.predict(test), delimiter=',', fmt='%f')\n",
    "savetxt('Data/probabil_predicted.csv', rf.predict_proba(test), delimiter=',', fmt='%f')"
   ]
  },
  {
   "cell_type": "markdown",
   "metadata": {},
   "source": [
    "### Plot the weights of each feature\n",
    "\n",
    "One of the advantages we have when we use a Random Forest Classifier is that we work with regression and classification tasks. With the regressions we are able to assign a weight to each feature to know which is the one with more relevance in the decission:"
   ]
  },
  {
   "cell_type": "code",
   "execution_count": 173,
   "metadata": {
    "collapsed": false
   },
   "outputs": [
    {
     "name": "stdout",
     "output_type": "stream",
     "text": [
      "strand = 0.000252878730991\n",
      "bidirectional = 0.00209084692109\n",
      "stem_len = 0.0415935990095\n",
      "loop_len = 0.00413492336967\n",
      "spacer_len = 0.0134745320964\n",
      "energy = 0.185513986989\n",
      "mismatched_b = 0.00875155236435\n",
      "GC = 0.0124428941976\n",
      "Ts = 0.139030869535\n",
      "ptsc1 = 0.251339673352\n",
      "ptsc2 = 0.245242045157\n",
      "distbef = 0.0945268563706\n",
      "distaft = 0.00160534190642\n"
     ]
    }
   ],
   "source": [
    "l = ['strand', 'bidirectional', 'stem_len', 'loop_len', 'spacer_len','energy', 'mismatched_b', 'GC', 'Ts', 'ptsc1', 'ptsc2', 'distbef', 'distaft']\n",
    "importances = rf.feature_importances_\n",
    "\n",
    "\n",
    "for i in range(0, len(l)):\n",
    "    print(l[i]+' = '+ str(importances[i]))\n",
    "    \n",
    "    \n",
    "# To plot the weights:\n",
    "std = np.std([importances for tree in rf.estimators_], axis=0)"
   ]
  },
  {
   "cell_type": "code",
   "execution_count": 174,
   "metadata": {
    "collapsed": false
   },
   "outputs": [],
   "source": [
    "indices = np.argsort(importances)[::-1]"
   ]
  },
  {
   "cell_type": "code",
   "execution_count": 175,
   "metadata": {
    "collapsed": false
   },
   "outputs": [
    {
     "name": "stdout",
     "output_type": "stream",
     "text": [
      "Feature ranking:\n",
      "1. feature 9 (0.251340)\n",
      "2. feature 10 (0.245242)\n",
      "3. feature 5 (0.185514)\n",
      "4. feature 8 (0.139031)\n",
      "5. feature 11 (0.094527)\n",
      "6. feature 2 (0.041594)\n",
      "7. feature 4 (0.013475)\n",
      "8. feature 7 (0.012443)\n",
      "9. feature 6 (0.008752)\n",
      "10. feature 3 (0.004135)\n",
      "11. feature 1 (0.002091)\n",
      "12. feature 12 (0.001605)\n"
     ]
    }
   ],
   "source": [
    "print(\"Feature ranking:\")\n",
    "for f in range(0,len(l)-1):\n",
    "    print(\"%d. feature %d (%f)\" % (f + 1, indices[f], importances[indices[f]]))\n"
   ]
  },
  {
   "cell_type": "code",
   "execution_count": 176,
   "metadata": {
    "collapsed": false
   },
   "outputs": [
    {
     "data": {
      "image/png": "[encoded data removed]",
      "text/plain": [
       "<matplotlib.figure.Figure at 0x7faf859b7d10>"
      ]
     },
     "metadata": {},
     "output_type": "display_data"
    }
   ],
   "source": [
    "# Plot the feature importances of the forest\n",
    "plt.figure()\n",
    "plt.title(\"Feature importances\")\n",
    "plt.bar(range(len(l)), importances[indices],\n",
    "       color=\"r\", yerr=std[indices], align=\"center\")\n",
    "plt.xticks(range(len(l)), indices)\n",
    "plt.xlim([-1, len(l)])\n",
    "plt.show()"
   ]
  },
  {
   "cell_type": "markdown",
   "metadata": {},
   "source": [
    "### Check the performance of the model"
   ]
  },
  {
   "cell_type": "code",
   "execution_count": 177,
   "metadata": {
    "collapsed": false
   },
   "outputs": [
    {
     "data": {
      "text/plain": [
       "0.99137931034482762"
      ]
     },
     "execution_count": 177,
     "metadata": {},
     "output_type": "execute_result"
    }
   ],
   "source": [
    "# model = RandomForestClassifier(n_estimators=200, oob_score=1, n_jobs = -1,random_state =50, max_features = \"auto\", min_samples_leaf = leaf_size)\n",
    "rf.fit(train, target)\n",
    "probs = rf.oob_decision_function_\n",
    "# Transform to labels\n",
    "labels = [1.0 if y > x else 0.0 for x, y in probs]\n",
    "\n",
    "roc_auc_score(target, labels)"
   ]
  },
  {
   "cell_type": "markdown",
   "metadata": {},
   "source": [
    "### Confusion matrix"
   ]
  },
  {
   "cell_type": "markdown",
   "metadata": {},
   "source": [
    "First of all prepare the test and training set labels and the predictions performed:"
   ]
  },
  {
   "cell_type": "code",
   "execution_count": 178,
   "metadata": {
    "collapsed": false
   },
   "outputs": [],
   "source": [
    "y_test = list(target)\n",
    "pred = list(labels)\n",
    "\n",
    "y_train = list([x[0] for x in test_original])\n",
    "pred_train = list(rf.predict(test))\n",
    "\n",
    "categories = [0.0, 1.0]"
   ]
  },
  {
   "cell_type": "markdown",
   "metadata": {},
   "source": [
    "Plot the confusion matrix:"
   ]
  },
  {
   "cell_type": "code",
   "execution_count": 179,
   "metadata": {
    "collapsed": false
   },
   "outputs": [
    {
     "name": "stderr",
     "output_type": "stream",
     "text": [
      "/usr/local/lib/python2.7/dist-packages/ipykernel/__main__.py:18: DeprecationWarning: using a non-integer number instead of an integer will result in an error in the future\n",
      "/usr/local/lib/python2.7/dist-packages/ipykernel/__main__.py:19: DeprecationWarning: using a non-integer number instead of an integer will result in an error in the future\n"
     ]
    },
    {
     "data": {
      "image/png": "[encoded data removed]",
      "text/plain": [
       "<matplotlib.figure.Figure at 0x7faf859b7790>"
      ]
     },
     "metadata": {},
     "output_type": "display_data"
    }
   ],
   "source": [
    "from sklearn import metrics\n",
    "import numpy as np, pylab as pl\n",
    "# get overall accuracy and F1 score to print at top of plot\n",
    "pscore = metrics.accuracy_score(y_test, pred)\n",
    "score = metrics.f1_score(y_test, pred, average='binary')\n",
    "\n",
    "# get size of the full label set\n",
    "dur = len(categories)\n",
    "\n",
    "# initialize score matrices\n",
    "trueScores = np.zeros(shape=(dur,dur))\n",
    "predScores = np.zeros(shape=(dur,dur))\n",
    "\n",
    "# populate totals\n",
    "for i in xrange(len(y_test)-1):\n",
    "    trueIdx = y_test[i]\n",
    "    predIdx = pred[i]\n",
    "    trueScores[trueIdx,trueIdx] += 1\n",
    "    predScores[trueIdx,predIdx] += 1\n",
    "    \n",
    "# create %-based results\n",
    "trueSums = np.sum(trueScores,axis=0)\n",
    "conf = np.zeros(shape=predScores.shape)\n",
    "for i in xrange(len(predScores)):\n",
    "    for j in xrange(dur):\n",
    "        conf[i,j] = predScores[i,j] / trueSums[i]\n",
    "    \n",
    "# plot the confusion matrix\n",
    "hq = pl.figure(figsize=(15,15));\n",
    "aq = hq.add_subplot(1,1,1)\n",
    "aq.set_aspect(1)\n",
    "res = aq.imshow(conf,cmap=pl.get_cmap('Greens'),interpolation='nearest',vmin=-0.05,vmax=1.)\n",
    "width = len(conf)\n",
    "height = len(conf[0])\n",
    "done = []\n",
    "\n",
    "# label each grid cell with the misclassification rates\n",
    "for w in xrange(width):\n",
    "    for h in xrange(height):\n",
    "        pval = conf[w][h]\n",
    "        c = 'k'\n",
    "        rais = w\n",
    "        if pval > 0.5: c = 'w'\n",
    "        if pval > 0.001:\n",
    "            if w == h:\n",
    "                aq.annotate(\"{0:1.1f}%\\n{1:1.0f}/{2:1.0f}\".format(pval*100.,predScores[w][h],trueSums[w]), xy=(h, w), \n",
    "                  horizontalalignment='center',\n",
    "                  verticalalignment='center',color=c,size=20)\n",
    "            else:\n",
    "                aq.annotate(\"{0:1.1f}%\\n{1:1.0f}\".format(pval*100.,predScores[w][h]), xy=(h, w), \n",
    "                  horizontalalignment='center',\n",
    "                  verticalalignment='center',color=c,size=20)\n",
    "        \n",
    "# label the axes\n",
    "pl.xticks(range(width), categories[:width],rotation=90,size=20)\n",
    "pl.yticks(range(height), categories[:height],size=20)\n",
    "\n",
    "# add a title with the F1 score and accuracy\n",
    "aq.set_title(\" Prediction, Test Set (f1: \"+\"{0:1.3f}\".format(score)+', accuracy: '+'{0:2.1f}%'.format(100*pscore)+\", \" + str(len(y_test)) + \" items)\",fontname='Arial',size=20,color='k')\n",
    "aq.set_ylabel(\"Actual\",fontname='Arial',size=20,color='k')\n",
    "aq.set_xlabel(\"Predicted\",fontname='Arial',size=20,color='k')\n",
    "pl.grid(b=True,axis='both')\n",
    "\n",
    "# save it\n",
    "# pl.savefig(\"pred.conf.test.png\")"
   ]
  },
  {
   "cell_type": "markdown",
   "metadata": {},
   "source": [
    "### Plot ROC Curves\n",
    "\n"
   ]
  },
  {
   "cell_type": "code",
   "execution_count": 180,
   "metadata": {
    "collapsed": false
   },
   "outputs": [
    {
     "data": {
      "image/png": "[encoded data removed]",
      "text/plain": [
       "<matplotlib.figure.Figure at 0x7faf2adda4d0>"
      ]
     },
     "metadata": {},
     "output_type": "display_data"
    }
   ],
   "source": [
    "# Compute ROC curve and ROC area for each class\n",
    "fpr = dict()\n",
    "tpr = dict()\n",
    "roc_auc = dict()\n",
    "for i in range(len(set(labels))):\n",
    "    fpr[i], tpr[i], _ = roc_curve(target, labels)\n",
    "    roc_auc[i] = auc(fpr[i], tpr[i])\n",
    "\n",
    "# Compute micro-average ROC curve and ROC area\n",
    "# fpr[\"micro\"], tpr[\"micro\"], _ = roc_curve(y_test.ravel(), y_score.ravel())\n",
    "# roc_auc[\"micro\"] = auc(fpr[\"micro\"], tpr[\"micro\"])\n",
    "\n",
    "##############################################################################\n",
    "# Plot of a ROC curve for a specific class\n",
    "plt.figure(figsize=(15,15))\n",
    "plt.plot(fpr[0], tpr[0], label='ROC curve (area = %0.2f)' % roc_auc[0])\n",
    "plt.plot([0, 1], [0, 1], 'k--')\n",
    "plt.xlim([0.0, 1.0])\n",
    "plt.ylim([0.0, 1.05])\n",
    "plt.xlabel('False Positive Rate')\n",
    "plt.ylabel('True Positive Rate')\n",
    "plt.title('Receiver operating characteristic example')\n",
    "plt.legend(loc=\"lower right\")\n",
    "plt.show()"
   ]
  },
  {
   "cell_type": "markdown",
   "metadata": {},
   "source": [
    "### Try several parameters"
   ]
  },
  {
   "cell_type": "code",
   "execution_count": 181,
   "metadata": {
    "collapsed": false
   },
   "outputs": [
    {
     "name": "stdout",
     "output_type": "stream",
     "text": [
      "AUC - ROC :  0.991379310345\n",
      "AUC - ROC :  0.991379310345\n",
      "AUC - ROC :  0.98275862069\n",
      "AUC - ROC :  0.5\n",
      "AUC - ROC :  0.5\n",
      "AUC - ROC :  0.5\n",
      "AUC - ROC :  0.5\n"
     ]
    }
   ],
   "source": [
    "sample_leaf_options = [1,5,10,50,100,200,500]\n",
    "\n",
    "for leaf_size in sample_leaf_options :\n",
    "    model = RandomForestClassifier(n_estimators = 200, oob_score=1, n_jobs = -1,random_state =50, max_features = \"auto\", min_samples_leaf = leaf_size)\n",
    "    model.fit(train, target)\n",
    "    probs = model.oob_decision_function_\n",
    "    # Transform to labels\n",
    "    labels = [1.0 if y > x else 0 for x, y in probs]\n",
    "    print \"AUC - ROC : \", roc_auc_score(target,labels)"
   ]
  }
 ],
 "metadata": {
  "kernelspec": {
   "display_name": "Python 2",
   "language": "python",
   "name": "python2"
  },
  "language_info": {
   "codemirror_mode": {
    "name": "ipython",
    "version": 2
   },
   "file_extension": ".py",
   "mimetype": "text/x-python",
   "name": "python",
   "nbconvert_exporter": "python",
   "pygments_lexer": "ipython2",
   "version": "2.7.10"
  }
 },
 "nbformat": 4,
 "nbformat_minor": 0
}
